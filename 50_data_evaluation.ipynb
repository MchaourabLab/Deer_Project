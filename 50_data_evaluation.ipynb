{
 "cells": [
  {
   "cell_type": "markdown",
   "id": "7909224e",
   "metadata": {},
   "source": [
    "# 50_data_evaluation"
   ]
  },
  {
   "cell_type": "code",
   "execution_count": null,
   "id": "498e7ae9",
   "metadata": {},
   "outputs": [],
   "source": []
  }
 ],
 "metadata": {
  "kernelspec": {
   "display_name": "Python 3",
   "language": "python",
   "name": "python3"
  }
 },
 "nbformat": 4,
 "nbformat_minor": 5
}
