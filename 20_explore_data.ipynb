{
 "cells": [
  {
   "cell_type": "markdown",
   "id": "90dca3a3",
   "metadata": {},
   "source": [
    "# 20_explore_data"
   ]
  },
  {
   "cell_type": "code",
   "execution_count": null,
   "id": "d0b7a1cc",
   "metadata": {},
   "outputs": [],
   "source": []
  }
 ],
 "metadata": {
  "kernelspec": {
   "display_name": "Python 3",
   "language": "python",
   "name": "python3"
  }
 },
 "nbformat": 4,
 "nbformat_minor": 5
}
