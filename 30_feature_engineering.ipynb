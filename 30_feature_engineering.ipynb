{
 "cells": [
  {
   "cell_type": "markdown",
   "id": "b3d2c497",
   "metadata": {},
   "source": [
    "# 30_feature_engineering"
   ]
  },
  {
   "cell_type": "code",
   "execution_count": null,
   "id": "d1c9b8d8",
   "metadata": {},
   "outputs": [],
   "source": []
  }
 ],
 "metadata": {
  "kernelspec": {
   "display_name": "Python 3",
   "language": "python",
   "name": "python3"
  }
 },
 "nbformat": 4,
 "nbformat_minor": 5
}
