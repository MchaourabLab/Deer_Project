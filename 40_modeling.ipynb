{
 "cells": [
  {
   "cell_type": "markdown",
   "id": "6651ae61",
   "metadata": {},
   "source": [
    "# 40_modeling"
   ]
  },
  {
   "cell_type": "code",
   "execution_count": null,
   "id": "b8abd7c3",
   "metadata": {},
   "outputs": [],
   "source": []
  }
 ],
 "metadata": {
  "kernelspec": {
   "display_name": "Python 3",
   "language": "python",
   "name": "python3"
  }
 },
 "nbformat": 4,
 "nbformat_minor": 5
}
